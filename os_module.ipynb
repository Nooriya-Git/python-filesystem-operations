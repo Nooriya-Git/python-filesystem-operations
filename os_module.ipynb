{
 "cells": [
  {
   "cell_type": "code",
   "execution_count": 1,
   "id": "2a8fc22b",
   "metadata": {},
   "outputs": [],
   "source": [
    "import os"
   ]
  },
  {
   "cell_type": "code",
   "execution_count": 2,
   "id": "fbe99acd",
   "metadata": {},
   "outputs": [],
   "source": [
    "# Create a new directory.\n",
    "os.mkdir(\"dir\")"
   ]
  },
  {
   "cell_type": "code",
   "execution_count": 3,
   "id": "6424fd12",
   "metadata": {},
   "outputs": [
    {
     "data": {
      "text/plain": [
       "['.ipynb_checkpoints', 'dir', 'os_module.ipynb']"
      ]
     },
     "execution_count": 3,
     "metadata": {},
     "output_type": "execute_result"
    }
   ],
   "source": [
    "# List all files and directories in the current working directory.\n",
    "os.listdir()"
   ]
  },
  {
   "cell_type": "code",
   "execution_count": 4,
   "id": "afe924fc",
   "metadata": {},
   "outputs": [],
   "source": [
    "# Create a new text file within the newly created directory and write some content to it.\n",
    "with open(\"dir/file.txt\",\"w\") as f:\n",
    "    f.write(\"The sun sets beautifully behind the mountains.\")\n"
   ]
  },
  {
   "cell_type": "code",
   "execution_count": 5,
   "id": "9efdbb12",
   "metadata": {},
   "outputs": [
    {
     "name": "stdout",
     "output_type": "stream",
     "text": [
      "The sun sets beautifully behind the mountains.\n"
     ]
    }
   ],
   "source": [
    "# Read the content of the newly created text file.\n",
    "with open(\"dir/file.txt\",\"r\") as f:\n",
    "    content = f.read()\n",
    "    print(content)\n"
   ]
  },
  {
   "cell_type": "code",
   "execution_count": 6,
   "id": "f6e77865",
   "metadata": {},
   "outputs": [],
   "source": [
    "# Rename the text file.\n",
    "os.rename(\"dir/file.txt\",\"dir/textfile.txt\")"
   ]
  },
  {
   "cell_type": "code",
   "execution_count": 7,
   "id": "8c06f9cb",
   "metadata": {},
   "outputs": [
    {
     "data": {
      "text/plain": [
       "['textfile.txt']"
      ]
     },
     "execution_count": 7,
     "metadata": {},
     "output_type": "execute_result"
    }
   ],
   "source": [
    "# List all files and directories in the new directory after renaming the file.\n",
    "\n",
    "os.listdir(\"dir\")"
   ]
  },
  {
   "cell_type": "code",
   "execution_count": 9,
   "id": "de71e182",
   "metadata": {},
   "outputs": [],
   "source": [
    "# Imprting shutil library to delete dir which is not empty\n",
    "import shutil"
   ]
  },
  {
   "cell_type": "code",
   "execution_count": 11,
   "id": "229c86cc",
   "metadata": {},
   "outputs": [],
   "source": [
    "# Delete the new directory and its contents. \n",
    "shutil.rmtree(\"dir\")\n",
    "os.listdir()"
   ]
  },
  {
   "cell_type": "code",
   "execution_count": 12,
   "id": "1f8ad7f7",
   "metadata": {},
   "outputs": [],
   "source": []
  },
  {
   "cell_type": "code",
   "execution_count": 14,
   "id": "5f98f02c",
   "metadata": {},
   "outputs": [
    {
     "data": {
      "text/plain": [
       "['.ipynb_checkpoints', 'os_module.ipynb']"
      ]
     },
     "execution_count": 14,
     "metadata": {},
     "output_type": "execute_result"
    }
   ],
   "source": []
  },
  {
   "cell_type": "code",
   "execution_count": null,
   "id": "cf66c851",
   "metadata": {},
   "outputs": [],
   "source": []
  }
 ],
 "metadata": {
  "kernelspec": {
   "display_name": "Python 3 (ipykernel)",
   "language": "python",
   "name": "python3"
  },
  "language_info": {
   "codemirror_mode": {
    "name": "ipython",
    "version": 3
   },
   "file_extension": ".py",
   "mimetype": "text/x-python",
   "name": "python",
   "nbconvert_exporter": "python",
   "pygments_lexer": "ipython3",
   "version": "3.11.5"
  }
 },
 "nbformat": 4,
 "nbformat_minor": 5
}
